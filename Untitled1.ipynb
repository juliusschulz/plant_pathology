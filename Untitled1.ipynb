{
 "cells": [
  {
   "cell_type": "code",
   "execution_count": 1,
   "metadata": {},
   "outputs": [
    {
     "name": "stderr",
     "output_type": "stream",
     "text": [
      "Using TensorFlow backend.\n"
     ]
    }
   ],
   "source": [
    "import pandas as pd\n",
    "import numpy as np \n",
    "import os\n",
    "import imageio\n",
    "from matplotlib import pyplot as plt\n",
    "import seaborn as sns\n",
    "from tqdm import tqdm\n",
    "import cv2\n",
    "from keras.applications.mobilenet import preprocess_input\n",
    "from keras import backend as K\n",
    "from keras.metrics import categorical_crossentropy\n",
    "from keras.preprocessing import image\n",
    "from keras.models import Model\n",
    "from keras.layers import Dense,GlobalAveragePooling2D\n",
    "from keras.applications import MobileNet, imagenet_utils\n",
    "from keras.applications.mobilenet import preprocess_input\n",
    "from keras.optimizers import Adam\n",
    "from keras.layers import Input, Dense, Activation\n",
    "from keras.utils.np_utils import to_categorical\n",
    "\n",
    "%matplotlib inline\n",
    "from keras.preprocessing.image import ImageDataGenerator\n",
    "import pandas as pd\n",
    "import numpy as np \n",
    "import os\n",
    "import imageio\n",
    "from matplotlib import pyplot as plt\n",
    "import seaborn as sns\n",
    "from tqdm import tqdm\n",
    "import cv2\n",
    "from sklearn.preprocessing import MinMaxScaler\n",
    "from keras.applications.mobilenet import preprocess_input\n",
    "from keras import backend as K\n",
    "from keras.metrics import categorical_crossentropy\n",
    "from keras.preprocessing import image\n",
    "from keras.models import Model\n",
    "from keras.layers import Dense,GlobalAveragePooling2D, Dropout\n",
    "from keras.applications import MobileNet, imagenet_utils\n",
    "from keras.applications.mobilenet import preprocess_input\n",
    "from keras.optimizers import Adam\n",
    "from keras.layers import Input, Dense, Activation\n",
    "from keras.utils.np_utils import to_categorical\n",
    "from keras.models import load_model\n",
    "from keras.callbacks import EarlyStopping, ReduceLROnPlateau, ModelCheckpoint\n",
    "%matplotlib inline"
   ]
  },
  {
   "cell_type": "code",
   "execution_count": 2,
   "metadata": {},
   "outputs": [],
   "source": [
    "train = pd.read_csv('train.csv', delimiter=',')\n",
    "test = pd.read_csv('test.csv', delimiter=',')"
   ]
  },
  {
   "cell_type": "code",
   "execution_count": null,
   "metadata": {},
   "outputs": [],
   "source": []
  },
  {
   "cell_type": "markdown",
   "metadata": {},
   "source": [
    "## Check if we have balanced data\n",
    "- 3 out of 4 classes are equal \n",
    "- the class with multiple_diseases is undersampled"
   ]
  },
  {
   "cell_type": "code",
   "execution_count": 151,
   "metadata": {},
   "outputs": [
    {
     "data": {
      "text/plain": [
       "<matplotlib.axes._subplots.AxesSubplot at 0x1562ac7f0>"
      ]
     },
     "execution_count": 151,
     "metadata": {},
     "output_type": "execute_result"
    },
    {
     "data": {
      "image/png": "[encoded data removed]",
      "text/plain": [
       "<Figure size 432x288 with 1 Axes>"
      ]
     },
     "metadata": {
      "needs_background": "light"
     },
     "output_type": "display_data"
    }
   ],
   "source": [
    "train.groupby(['healthy','multiple_diseases', 'rust', 'scab']).count().plot.bar()"
   ]
  },
  {
   "cell_type": "code",
   "execution_count": 152,
   "metadata": {},
   "outputs": [
    {
     "data": {
      "text/plain": [
       "<matplotlib.lines.Line2D at 0x1562c1f28>"
      ]
     },
     "execution_count": 152,
     "metadata": {},
     "output_type": "execute_result"
    },
    {
     "data": {
      "image/png": "[encoded data removed]",
      "text/plain": [
       "<Figure size 432x288 with 1 Axes>"
      ]
     },
     "metadata": {
      "needs_background": "light"
     },
     "output_type": "display_data"
    }
   ],
   "source": [
    "sns.barplot(x=[1,2,3,4], y=train.groupby(['healthy','multiple_diseases', 'rust', 'scab'])['image_id'].count(), palette=\"deep\").axhline(0, color=\"k\", clip_on=False)"
   ]
  },
  {
   "cell_type": "markdown",
   "metadata": {},
   "source": [
    "## Find out if all pictures have the same shape \n",
    "- most of the images have the shape (1365, 2048, 3)\n",
    "- a list of pictures have the shape (2048, 1365, 3)"
   ]
  },
  {
   "cell_type": "code",
   "execution_count": 4,
   "metadata": {},
   "outputs": [],
   "source": [
    "image = imageio.imread('images/Train_1.jpg')"
   ]
  },
  {
   "cell_type": "code",
   "execution_count": 5,
   "metadata": {},
   "outputs": [],
   "source": [
    "train.set_index('image_id', inplace=True)"
   ]
  },
  {
   "cell_type": "code",
   "execution_count": 155,
   "metadata": {},
   "outputs": [
    {
     "name": "stderr",
     "output_type": "stream",
     "text": [
      "100%|██████████| 1821/1821 [02:14<00:00, 13.52it/s]\n"
     ]
    }
   ],
   "source": [
    "shape_error = []\n",
    "for i in tqdm(range(0,len(train.index))):\n",
    "    image = imageio.imread(f'images/Train_{i}.jpg')\n",
    "    if image.shape == (1365, 2048, 3):\n",
    "        continue\n",
    "    else:\n",
    "        shape_error.append(f'Train_{i}.jpg')\n",
    "        "
   ]
  },
  {
   "cell_type": "code",
   "execution_count": 156,
   "metadata": {},
   "outputs": [
    {
     "name": "stderr",
     "output_type": "stream",
     "text": [
      "100%|██████████| 2/2 [00:00<00:00, 13.32it/s]\n"
     ]
    }
   ],
   "source": [
    "# checking if all pictures in the list shape errors have the same shape\n",
    "for i in tqdm(shape_error):\n",
    "    image = imageio.imread(f'images/{i}')\n",
    "    if image.shape == (2048, 1365, 3):\n",
    "        continue"
   ]
  },
  {
   "cell_type": "code",
   "execution_count": 7,
   "metadata": {},
   "outputs": [],
   "source": [
    "#def reshaper(image):\n",
    "#    \"\"\"Reshapes every picture to (224, 224, 3)\"\"\"\n",
    "#    if image.shape != (224, 224, 3):\n",
    "#        k = round(image.shape[0]/244), round(image.shape[1]/244)\n",
    "#        image = image[::k[0],::k[1],:]\n",
    "#        image = image[image.shape[0]-224:,((image.shape[1]-224)//2):-((image.shape[1]-224)//2),:]\n",
    "#    return image"
   ]
  },
  {
   "cell_type": "markdown",
   "metadata": {},
   "source": [
    "## Split, reshape images \n",
    "- all images were shaped into (224, 224, 3)\n",
    "- train and validation images were seperated in two different folders"
   ]
  },
  {
   "cell_type": "code",
   "execution_count": 8,
   "metadata": {},
   "outputs": [],
   "source": [
    "#for i in tqdm(range(0,len(train.index))):\n",
    "#    image = reshaper(imageio.imread(f'images/Test_{i}.jpg'))\n",
    "#    imageio.imwrite(f'test_data/Test_{i}.jpg',image)"
   ]
  },
  {
   "cell_type": "code",
   "execution_count": null,
   "metadata": {},
   "outputs": [],
   "source": [
    "#for i in tqdm(range(0,len(train.index))):\n",
    "#    image = reshaper(imageio.imread(f'images/Train_{i}.jpg'))\n",
    "#    imageio.imwrite(f'train_data/Train_{i}.jpg',image)"
   ]
  },
  {
   "cell_type": "markdown",
   "metadata": {},
   "source": [
    "# Train-test-split\n",
    "- 80% train data \n",
    "- 20% test data "
   ]
  },
  {
   "cell_type": "code",
   "execution_count": 6,
   "metadata": {},
   "outputs": [
    {
     "name": "stderr",
     "output_type": "stream",
     "text": [
      "100%|██████████| 1821/1821 [00:14<00:00, 126.63it/s]\n"
     ]
    }
   ],
   "source": [
    "X = []\n",
    "for i in tqdm(range(0,len(train.index))):\n",
    "    image = imageio.imread(f'train_data/Train_{i}.jpg')\n",
    "    X.append(image)\n",
    "X = np.array(X)"
   ]
  },
  {
   "cell_type": "code",
   "execution_count": 7,
   "metadata": {},
   "outputs": [],
   "source": [
    "y =  train.values"
   ]
  },
  {
   "cell_type": "code",
   "execution_count": 8,
   "metadata": {},
   "outputs": [
    {
     "data": {
      "text/plain": [
       "(1821, 224, 224, 3)"
      ]
     },
     "execution_count": 8,
     "metadata": {},
     "output_type": "execute_result"
    }
   ],
   "source": [
    "X.shape"
   ]
  },
  {
   "cell_type": "code",
   "execution_count": 18,
   "metadata": {},
   "outputs": [],
   "source": [
    "X = preprocess_input(X)\n",
    "y =  train.values\n",
    "Xtrain = X[:1450]\n",
    "ytrain = y[:1450]\n",
    "Xtest = X[1450:]\n",
    "ytest = y[1450:]\n"
   ]
  },
  {
   "cell_type": "code",
   "execution_count": 10,
   "metadata": {},
   "outputs": [
    {
     "data": {
      "text/plain": [
       "(1450, 224, 224, 3)"
      ]
     },
     "execution_count": 10,
     "metadata": {},
     "output_type": "execute_result"
    }
   ],
   "source": [
    "Xtrain.shape"
   ]
  },
  {
   "cell_type": "markdown",
   "metadata": {},
   "source": [
    "# MobileNet"
   ]
  },
  {
   "cell_type": "code",
   "execution_count": 11,
   "metadata": {},
   "outputs": [],
   "source": [
    "customised_mobilenet = MobileNet(weights='imagenet', include_top=False, input_shape=(224,224,3))"
   ]
  },
  {
   "cell_type": "code",
   "execution_count": 12,
   "metadata": {},
   "outputs": [
    {
     "name": "stdout",
     "output_type": "stream",
     "text": [
      "86\n"
     ]
    }
   ],
   "source": [
    "# count the layers in pretrained MobileNet\n",
    "for i, layer in enumerate(customised_mobilenet.layers):\n",
    "    pass\n",
    "print(i)"
   ]
  },
  {
   "cell_type": "code",
   "execution_count": 13,
   "metadata": {},
   "outputs": [],
   "source": [
    "new_layers = customised_mobilenet.output"
   ]
  },
  {
   "cell_type": "code",
   "execution_count": 14,
   "metadata": {},
   "outputs": [],
   "source": [
    "new_layers = GlobalAveragePooling2D()(new_layers)\n",
    "new_layers = Dense(1024, activation='relu')(new_layers)\n",
    "new_layers = Dense(512, activation='relu')(new_layers)\n",
    "new_layers = Dense(512, activation='relu')(new_layers)\n",
    "new_layers = Dense(4, activation='softmax')(new_layers)"
   ]
  },
  {
   "cell_type": "code",
   "execution_count": 15,
   "metadata": {},
   "outputs": [
    {
     "name": "stderr",
     "output_type": "stream",
     "text": [
      "/Users/juliusschulz/.conda/envs/keras_iters/lib/python3.6/site-packages/ipykernel_launcher.py:1: UserWarning: Update your `Model` call to the Keras 2 API: `Model(inputs=[<tf.Tenso..., outputs=Tensor(\"de...)`\n",
      "  \"\"\"Entry point for launching an IPython kernel.\n"
     ]
    }
   ],
   "source": [
    "new_mobile = Model(inputs=customised_mobilenet.inputs, output=new_layers)"
   ]
  },
  {
   "cell_type": "code",
   "execution_count": null,
   "metadata": {},
   "outputs": [],
   "source": [
    "batch_size = [32]\n",
    "epochs = [100]\n",
    "\n",
    "#datagen = ImageDataGenerator(preprocessing_function=preprocess_input,\n",
    "#    featurewise_center=True,\n",
    "#    featurewise_std_normalization=True,\n",
    "#    rotation_range=20,\n",
    "#    width_shift_range=0.2,\n",
    "#    height_shift_range=0.2,\n",
    "#    horizontal_flip=True)\n",
    "\n",
    "\n",
    "\n",
    "datagen = ImageDataGenerator(\n",
    "    featurewise_center=False,\n",
    "    featurewise_std_normalization=False,\n",
    "    rescale=None,\n",
    "    rotation_range=15,\n",
    "    width_shift_range=.15,\n",
    "    height_shift_range=.15,\n",
    "    horizontal_flip=True,\n",
    "    zoom_range = 0.1,)\n",
    "\n",
    "#training the image preprocessing\n",
    "datagen.fit(Xtrain, augment=True)\n",
    "# compute quantities required for featurewise normalization\n",
    "# (std, mean, and principal components if ZCA whitening is applied)\n",
    "#datagen.fit(Xtrain)\n",
    "\n",
    "# fits the model on batches with real-time data augmentation:\n",
    "for batch in batch_size:\n",
    "    for epoch in epochs:\n",
    "        K.clear_session()\n",
    "        \n",
    "        \n",
    "        rlr = ReduceLROnPlateau(patience=15, verbose=1)\n",
    "        es = EarlyStopping(patience=35, restore_best_weights=True, verbose=1)\n",
    "        mc = ModelCheckpoint('model.hdf5', save_best_only=True, verbose=0)\n",
    "\n",
    "        \n",
    "        # load MobileNet\n",
    "        customised_mobilenet = MobileNet(weights='imagenet' ,include_top=False, input_shape=(224,224,3))\n",
    "        \n",
    "        # add new layers\n",
    "        new_layers = customised_mobilenet.output\n",
    "        new_layers = GlobalAveragePooling2D()(new_layers)\n",
    "        new_layers = Dense(1024, activation='relu')(new_layers)\n",
    "        new_layers = Dense(512, activation='relu')(new_layers)\n",
    "        new_layers = Dense(512, activation='relu')(new_layers)\n",
    "        new_layers = Dropout(0.5)(new_layers)\n",
    "        new_layers = Dense(4, activation='softmax')(new_layers)\n",
    "        new_mobile = Model(inputs=customised_mobilenet.inputs, output=new_layers)\n",
    "        \n",
    "        # set number of trainable layers\n",
    "        for i, layer in enumerate(new_mobile.layers):\n",
    "            if i <= 60:\n",
    "                layer.trainable = False\n",
    "            else:\n",
    "                layer.trainable = True\n",
    "        \n",
    "        # compile model\n",
    "        new_mobile.compile(optimizer='adam', loss='categorical_crossentropy', metrics=['accuracy'])\n",
    "        \n",
    "        \n",
    "        # fit and image generator\n",
    "        \n",
    "        history = new_mobile.fit_generator(\n",
    "            datagen.flow(Xtrain, ytrain, batch_size = batch),\n",
    "            validation_data = (Xtest, ytest),\n",
    "            steps_per_epoch = len(Xtrain) // batch, \n",
    "            epochs = epoch,\n",
    "            callbacks = [rlr, es , mc],\n",
    "            use_multiprocessing = True,\n",
    "             )\n",
    "        \n",
    "        # save model                               \n",
    "        #new_mobile.save(f'model_batch_size:{batch}_epochs:{epoch}.h5')\n",
    "\n",
    "\n",
    "        # evaluate the model\n",
    "        _, train_acc = new_mobile.evaluate(Xtrain, ytrain, verbose=0)\n",
    "        _, test_acc = new_mobile.evaluate(Xtest, ytest, verbose=0)\n",
    "        print('Train: %.3f, Test: %.3f' % (train_acc, test_acc))\n",
    "        # summarize history for accuracy\n",
    "        plt.plot(history.history['accuracy'])\n",
    "        plt.plot(history.history['val_accuracy'])\n",
    "        plt.title(f'model accuracy with {epoch} epochs and {batch} batch_size')\n",
    "        plt.ylabel('accuracy')\n",
    "        plt.xlabel('epoch')\n",
    "        plt.legend(['train', 'test'], loc='upper left')\n",
    "        #plt.savefig(f'accuracy:{epoch}epochs{batch}batch_size')\n",
    "        plt.show()\n",
    "        # summarize history for loss\n",
    "        plt.plot(history.history['loss'])\n",
    "        plt.plot(history.history['val_loss'])\n",
    "        plt.title(f'model loss with {epoch} epochs and {batch} batch_size')\n",
    "        plt.ylabel('loss')\n",
    "        plt.xlabel('epoch')\n",
    "        plt.legend(['train', 'test'], loc='upper left')\n",
    "        #plt.savefig(f'loss:{epoch}epochs{batch}batch_size')\n",
    "        plt.show()"
   ]
  }
 ],
 "metadata": {
  "kernelspec": {
   "display_name": "Python 3",
   "language": "python",
   "name": "python3"
  },
  "language_info": {
   "codemirror_mode": {
    "name": "ipython",
    "version": 3
   },
   "file_extension": ".py",
   "mimetype": "text/x-python",
   "name": "python",
   "nbconvert_exporter": "python",
   "pygments_lexer": "ipython3",
   "version": "3.6.10"
  }
 },
 "nbformat": 4,
 "nbformat_minor": 4
}
